{
 "cells": [
  {
   "cell_type": "markdown",
   "metadata": {},
   "source": [
    "# 全流程"
   ]
  },
  {
   "cell_type": "code",
   "execution_count": 1,
   "metadata": {},
   "outputs": [
    {
     "name": "stdout",
     "output_type": "stream",
     "text": [
      "loading annotations into memory...\n",
      "Done (t=0.46s)\n",
      "creating index...\n",
      "index created!\n"
     ]
    }
   ],
   "source": [
    "import toml\n",
    "import torch\n",
    "import numpy as np\n",
    "\n",
    "from maskrcnn.data import build_dataset, build_dataloader\n",
    "from maskrcnn.models.backbone import build_backbone\n",
    "from maskrcnn.models.rpn import build_rpn\n",
    "\n",
    "cfg = toml.load('./maskrcnn/configs/config.toml')\n",
    "\n",
    "dataset = build_dataset(cfg)\n",
    "dataloader = build_dataloader(dataset, cfg, is_train=True)\n",
    "\n",
    "device = torch.device(\"cuda:0\")\n",
    "backbone = build_backbone(cfg).to(device)\n",
    "rpn = build_rpn(cfg).to(device)\n",
    "\n",
    "for images_list, targets in dataloader:\n",
    "    images_list = images_list.to(device)\n",
    "    targets = [target.to(device) for target in targets]\n",
    "\n",
    "    features = backbone(images_list.tensors)\n",
    "    \n",
    "    logits, bbox_reg, anchors = rpn(images_list, features)\n",
    "\n",
    "    break"
   ]
  },
  {
   "cell_type": "code",
   "execution_count": 2,
   "metadata": {},
   "outputs": [
    {
     "data": {
      "text/plain": [
       "(5, torch.Size([8, 3, 256, 256]))"
      ]
     },
     "execution_count": 2,
     "metadata": {},
     "output_type": "execute_result"
    }
   ],
   "source": [
    "len(logits), logits[0].shape"
   ]
  },
  {
   "cell_type": "code",
   "execution_count": 3,
   "metadata": {},
   "outputs": [
    {
     "data": {
      "text/plain": [
       "(5, torch.Size([8, 12, 256, 256]))"
      ]
     },
     "execution_count": 3,
     "metadata": {},
     "output_type": "execute_result"
    }
   ],
   "source": [
    "len(bbox_reg), bbox_reg[0].shape"
   ]
  },
  {
   "cell_type": "code",
   "execution_count": 5,
   "metadata": {},
   "outputs": [
    {
     "data": {
      "text/plain": [
       "(8, 5, torch.Size([196608, 4]))"
      ]
     },
     "execution_count": 5,
     "metadata": {},
     "output_type": "execute_result"
    }
   ],
   "source": [
    "len(anchors), len(anchors[0]), anchors[0][0].bbox.shape"
   ]
  },
  {
   "cell_type": "code",
   "execution_count": 7,
   "metadata": {},
   "outputs": [
    {
     "data": {
      "text/plain": [
       "261888"
      ]
     },
     "execution_count": 7,
     "metadata": {},
     "output_type": "execute_result"
    }
   ],
   "source": [
    "(256*256 + 128**2 + 64**2 + 32**2 + 16**2) * 3"
   ]
  },
  {
   "cell_type": "code",
   "execution_count": 14,
   "metadata": {},
   "outputs": [
    {
     "data": {
      "text/plain": [
       "(8, torch.Size([2, 4]))"
      ]
     },
     "execution_count": 14,
     "metadata": {},
     "output_type": "execute_result"
    }
   ],
   "source": [
    "len(targets), targets[0].get_field(\"bboxes\").bbox.shape"
   ]
  },
  {
   "cell_type": "code",
   "execution_count": null,
   "metadata": {},
   "outputs": [],
   "source": []
  }
 ],
 "metadata": {
  "kernelspec": {
   "display_name": "Python 3.9.12 (conda)",
   "language": "python",
   "name": "python3"
  },
  "language_info": {
   "codemirror_mode": {
    "name": "ipython",
    "version": 3
   },
   "file_extension": ".py",
   "mimetype": "text/x-python",
   "name": "python",
   "nbconvert_exporter": "python",
   "pygments_lexer": "ipython3",
   "version": "3.9.12"
  },
  "orig_nbformat": 4,
  "vscode": {
   "interpreter": {
    "hash": "635c520724201bf05b8c8c9deb36ce7bcce8ff012313bbe29068a2be4cfef84e"
   }
  }
 },
 "nbformat": 4,
 "nbformat_minor": 2
}
